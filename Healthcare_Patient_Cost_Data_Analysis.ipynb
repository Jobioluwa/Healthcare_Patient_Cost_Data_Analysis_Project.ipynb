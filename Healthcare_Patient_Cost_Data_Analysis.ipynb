{
 "cells": [
  {
   "cell_type": "markdown",
   "id": "336b6bd4-2ea4-48c4-af71-c27b23dfa320",
   "metadata": {},
   "source": [
    "# EFGH Insurance Company\n",
    "\n",
    "# Data Analyst - _Oluwatoyin Egunjobi_\n",
    "\n",
    "# Data Source - Kaggle (https://www.kaggle.com/datasets/mirichoi0218/insurance)\n",
    "\n",
    "# _Stakeholder's Business Objective_ : _Healthcare Cost Analysis_\n",
    "\n",
    "   \"_Help the company and their clients (hospital) create insights on patient's healthcare cost_\""
   ]
  },
  {
   "cell_type": "code",
   "execution_count": 261,
   "id": "a070f46a-656e-4de8-bac0-633247e06a3f",
   "metadata": {},
   "outputs": [],
   "source": [
    "import pandas as pd\n",
    "import matplotlib.pyplot as plt\n",
    "import seaborn as sns\n",
    "from scipy import stats\n",
    "import numpy as np\n",
    "\n",
    "my_data = pd.read_csv(r\"insurance.csv\")"
   ]
  },
  {
   "cell_type": "code",
   "execution_count": 262,
   "id": "38805905-1e64-43b3-be9a-faeae7258811",
   "metadata": {},
   "outputs": [
    {
     "name": "stdout",
     "output_type": "stream",
     "text": [
      "<class 'pandas.core.frame.DataFrame'>\n",
      "RangeIndex: 1338 entries, 0 to 1337\n",
      "Data columns (total 7 columns):\n",
      " #   Column    Non-Null Count  Dtype  \n",
      "---  ------    --------------  -----  \n",
      " 0   age       1338 non-null   int64  \n",
      " 1   sex       1338 non-null   object \n",
      " 2   bmi       1338 non-null   float64\n",
      " 3   children  1338 non-null   int64  \n",
      " 4   smoker    1338 non-null   object \n",
      " 5   region    1338 non-null   object \n",
      " 6   charges   1338 non-null   float64\n",
      "dtypes: float64(2), int64(2), object(3)\n",
      "memory usage: 73.3+ KB\n"
     ]
    }
   ],
   "source": [
    "my_data.info()"
   ]
  },
  {
   "cell_type": "code",
   "execution_count": 263,
   "id": "e5646227-7467-4912-907f-40ae4dd8d8a0",
   "metadata": {},
   "outputs": [
    {
     "data": {
      "application/vnd.microsoft.datawrangler.viewer.v0+json": {
       "columns": [
        {
         "name": "index",
         "rawType": "int64",
         "type": "integer"
        },
        {
         "name": "age",
         "rawType": "int64",
         "type": "integer"
        },
        {
         "name": "sex",
         "rawType": "object",
         "type": "string"
        },
        {
         "name": "bmi",
         "rawType": "float64",
         "type": "float"
        },
        {
         "name": "children",
         "rawType": "int64",
         "type": "integer"
        },
        {
         "name": "smoker",
         "rawType": "object",
         "type": "string"
        },
        {
         "name": "region",
         "rawType": "object",
         "type": "string"
        },
        {
         "name": "charges",
         "rawType": "float64",
         "type": "float"
        }
       ],
       "ref": "92fdf876-d45e-4d7b-9626-847c5f7580c6",
       "rows": [
        [
         "0",
         "19",
         "female",
         "27.9",
         "0",
         "yes",
         "southwest",
         "16884.924"
        ],
        [
         "1",
         "18",
         "male",
         "33.77",
         "1",
         "no",
         "southeast",
         "1725.5523"
        ],
        [
         "2",
         "28",
         "male",
         "33.0",
         "3",
         "no",
         "southeast",
         "4449.462"
        ],
        [
         "3",
         "33",
         "male",
         "22.705",
         "0",
         "no",
         "northwest",
         "21984.47061"
        ],
        [
         "4",
         "32",
         "male",
         "28.88",
         "0",
         "no",
         "northwest",
         "3866.8552"
        ],
        [
         "5",
         "31",
         "female",
         "25.74",
         "0",
         "no",
         "southeast",
         "3756.6216"
        ],
        [
         "6",
         "46",
         "female",
         "33.44",
         "1",
         "no",
         "southeast",
         "8240.5896"
        ],
        [
         "7",
         "37",
         "female",
         "27.74",
         "3",
         "no",
         "northwest",
         "7281.5056"
        ],
        [
         "8",
         "37",
         "male",
         "29.83",
         "2",
         "no",
         "northeast",
         "6406.4107"
        ],
        [
         "9",
         "60",
         "female",
         "25.84",
         "0",
         "no",
         "northwest",
         "28923.13692"
        ],
        [
         "10",
         "25",
         "male",
         "26.22",
         "0",
         "no",
         "northeast",
         "2721.3208"
        ],
        [
         "11",
         "62",
         "female",
         "26.29",
         "0",
         "yes",
         "southeast",
         "27808.7251"
        ],
        [
         "12",
         "23",
         "male",
         "34.4",
         "0",
         "no",
         "southwest",
         "1826.843"
        ],
        [
         "13",
         "56",
         "female",
         "39.82",
         "0",
         "no",
         "southeast",
         "11090.7178"
        ],
        [
         "14",
         "27",
         "male",
         "42.13",
         "0",
         "yes",
         "southeast",
         "39611.7577"
        ],
        [
         "15",
         "19",
         "male",
         "24.6",
         "1",
         "no",
         "southwest",
         "1837.237"
        ],
        [
         "16",
         "52",
         "female",
         "30.78",
         "1",
         "no",
         "northeast",
         "10797.3362"
        ],
        [
         "17",
         "23",
         "male",
         "23.845",
         "0",
         "no",
         "northeast",
         "2395.17155"
        ],
        [
         "18",
         "56",
         "male",
         "40.3",
         "0",
         "no",
         "southwest",
         "10602.385"
        ],
        [
         "19",
         "30",
         "male",
         "35.3",
         "0",
         "yes",
         "southwest",
         "36837.467"
        ]
       ],
       "shape": {
        "columns": 7,
        "rows": 20
       }
      },
      "text/html": [
       "<div>\n",
       "<style scoped>\n",
       "    .dataframe tbody tr th:only-of-type {\n",
       "        vertical-align: middle;\n",
       "    }\n",
       "\n",
       "    .dataframe tbody tr th {\n",
       "        vertical-align: top;\n",
       "    }\n",
       "\n",
       "    .dataframe thead th {\n",
       "        text-align: right;\n",
       "    }\n",
       "</style>\n",
       "<table border=\"1\" class=\"dataframe\">\n",
       "  <thead>\n",
       "    <tr style=\"text-align: right;\">\n",
       "      <th></th>\n",
       "      <th>age</th>\n",
       "      <th>sex</th>\n",
       "      <th>bmi</th>\n",
       "      <th>children</th>\n",
       "      <th>smoker</th>\n",
       "      <th>region</th>\n",
       "      <th>charges</th>\n",
       "    </tr>\n",
       "  </thead>\n",
       "  <tbody>\n",
       "    <tr>\n",
       "      <th>0</th>\n",
       "      <td>19</td>\n",
       "      <td>female</td>\n",
       "      <td>27.900</td>\n",
       "      <td>0</td>\n",
       "      <td>yes</td>\n",
       "      <td>southwest</td>\n",
       "      <td>16884.92400</td>\n",
       "    </tr>\n",
       "    <tr>\n",
       "      <th>1</th>\n",
       "      <td>18</td>\n",
       "      <td>male</td>\n",
       "      <td>33.770</td>\n",
       "      <td>1</td>\n",
       "      <td>no</td>\n",
       "      <td>southeast</td>\n",
       "      <td>1725.55230</td>\n",
       "    </tr>\n",
       "    <tr>\n",
       "      <th>2</th>\n",
       "      <td>28</td>\n",
       "      <td>male</td>\n",
       "      <td>33.000</td>\n",
       "      <td>3</td>\n",
       "      <td>no</td>\n",
       "      <td>southeast</td>\n",
       "      <td>4449.46200</td>\n",
       "    </tr>\n",
       "    <tr>\n",
       "      <th>3</th>\n",
       "      <td>33</td>\n",
       "      <td>male</td>\n",
       "      <td>22.705</td>\n",
       "      <td>0</td>\n",
       "      <td>no</td>\n",
       "      <td>northwest</td>\n",
       "      <td>21984.47061</td>\n",
       "    </tr>\n",
       "    <tr>\n",
       "      <th>4</th>\n",
       "      <td>32</td>\n",
       "      <td>male</td>\n",
       "      <td>28.880</td>\n",
       "      <td>0</td>\n",
       "      <td>no</td>\n",
       "      <td>northwest</td>\n",
       "      <td>3866.85520</td>\n",
       "    </tr>\n",
       "    <tr>\n",
       "      <th>5</th>\n",
       "      <td>31</td>\n",
       "      <td>female</td>\n",
       "      <td>25.740</td>\n",
       "      <td>0</td>\n",
       "      <td>no</td>\n",
       "      <td>southeast</td>\n",
       "      <td>3756.62160</td>\n",
       "    </tr>\n",
       "    <tr>\n",
       "      <th>6</th>\n",
       "      <td>46</td>\n",
       "      <td>female</td>\n",
       "      <td>33.440</td>\n",
       "      <td>1</td>\n",
       "      <td>no</td>\n",
       "      <td>southeast</td>\n",
       "      <td>8240.58960</td>\n",
       "    </tr>\n",
       "    <tr>\n",
       "      <th>7</th>\n",
       "      <td>37</td>\n",
       "      <td>female</td>\n",
       "      <td>27.740</td>\n",
       "      <td>3</td>\n",
       "      <td>no</td>\n",
       "      <td>northwest</td>\n",
       "      <td>7281.50560</td>\n",
       "    </tr>\n",
       "    <tr>\n",
       "      <th>8</th>\n",
       "      <td>37</td>\n",
       "      <td>male</td>\n",
       "      <td>29.830</td>\n",
       "      <td>2</td>\n",
       "      <td>no</td>\n",
       "      <td>northeast</td>\n",
       "      <td>6406.41070</td>\n",
       "    </tr>\n",
       "    <tr>\n",
       "      <th>9</th>\n",
       "      <td>60</td>\n",
       "      <td>female</td>\n",
       "      <td>25.840</td>\n",
       "      <td>0</td>\n",
       "      <td>no</td>\n",
       "      <td>northwest</td>\n",
       "      <td>28923.13692</td>\n",
       "    </tr>\n",
       "    <tr>\n",
       "      <th>10</th>\n",
       "      <td>25</td>\n",
       "      <td>male</td>\n",
       "      <td>26.220</td>\n",
       "      <td>0</td>\n",
       "      <td>no</td>\n",
       "      <td>northeast</td>\n",
       "      <td>2721.32080</td>\n",
       "    </tr>\n",
       "    <tr>\n",
       "      <th>11</th>\n",
       "      <td>62</td>\n",
       "      <td>female</td>\n",
       "      <td>26.290</td>\n",
       "      <td>0</td>\n",
       "      <td>yes</td>\n",
       "      <td>southeast</td>\n",
       "      <td>27808.72510</td>\n",
       "    </tr>\n",
       "    <tr>\n",
       "      <th>12</th>\n",
       "      <td>23</td>\n",
       "      <td>male</td>\n",
       "      <td>34.400</td>\n",
       "      <td>0</td>\n",
       "      <td>no</td>\n",
       "      <td>southwest</td>\n",
       "      <td>1826.84300</td>\n",
       "    </tr>\n",
       "    <tr>\n",
       "      <th>13</th>\n",
       "      <td>56</td>\n",
       "      <td>female</td>\n",
       "      <td>39.820</td>\n",
       "      <td>0</td>\n",
       "      <td>no</td>\n",
       "      <td>southeast</td>\n",
       "      <td>11090.71780</td>\n",
       "    </tr>\n",
       "    <tr>\n",
       "      <th>14</th>\n",
       "      <td>27</td>\n",
       "      <td>male</td>\n",
       "      <td>42.130</td>\n",
       "      <td>0</td>\n",
       "      <td>yes</td>\n",
       "      <td>southeast</td>\n",
       "      <td>39611.75770</td>\n",
       "    </tr>\n",
       "    <tr>\n",
       "      <th>15</th>\n",
       "      <td>19</td>\n",
       "      <td>male</td>\n",
       "      <td>24.600</td>\n",
       "      <td>1</td>\n",
       "      <td>no</td>\n",
       "      <td>southwest</td>\n",
       "      <td>1837.23700</td>\n",
       "    </tr>\n",
       "    <tr>\n",
       "      <th>16</th>\n",
       "      <td>52</td>\n",
       "      <td>female</td>\n",
       "      <td>30.780</td>\n",
       "      <td>1</td>\n",
       "      <td>no</td>\n",
       "      <td>northeast</td>\n",
       "      <td>10797.33620</td>\n",
       "    </tr>\n",
       "    <tr>\n",
       "      <th>17</th>\n",
       "      <td>23</td>\n",
       "      <td>male</td>\n",
       "      <td>23.845</td>\n",
       "      <td>0</td>\n",
       "      <td>no</td>\n",
       "      <td>northeast</td>\n",
       "      <td>2395.17155</td>\n",
       "    </tr>\n",
       "    <tr>\n",
       "      <th>18</th>\n",
       "      <td>56</td>\n",
       "      <td>male</td>\n",
       "      <td>40.300</td>\n",
       "      <td>0</td>\n",
       "      <td>no</td>\n",
       "      <td>southwest</td>\n",
       "      <td>10602.38500</td>\n",
       "    </tr>\n",
       "    <tr>\n",
       "      <th>19</th>\n",
       "      <td>30</td>\n",
       "      <td>male</td>\n",
       "      <td>35.300</td>\n",
       "      <td>0</td>\n",
       "      <td>yes</td>\n",
       "      <td>southwest</td>\n",
       "      <td>36837.46700</td>\n",
       "    </tr>\n",
       "  </tbody>\n",
       "</table>\n",
       "</div>"
      ],
      "text/plain": [
       "    age     sex     bmi  children smoker     region      charges\n",
       "0    19  female  27.900         0    yes  southwest  16884.92400\n",
       "1    18    male  33.770         1     no  southeast   1725.55230\n",
       "2    28    male  33.000         3     no  southeast   4449.46200\n",
       "3    33    male  22.705         0     no  northwest  21984.47061\n",
       "4    32    male  28.880         0     no  northwest   3866.85520\n",
       "5    31  female  25.740         0     no  southeast   3756.62160\n",
       "6    46  female  33.440         1     no  southeast   8240.58960\n",
       "7    37  female  27.740         3     no  northwest   7281.50560\n",
       "8    37    male  29.830         2     no  northeast   6406.41070\n",
       "9    60  female  25.840         0     no  northwest  28923.13692\n",
       "10   25    male  26.220         0     no  northeast   2721.32080\n",
       "11   62  female  26.290         0    yes  southeast  27808.72510\n",
       "12   23    male  34.400         0     no  southwest   1826.84300\n",
       "13   56  female  39.820         0     no  southeast  11090.71780\n",
       "14   27    male  42.130         0    yes  southeast  39611.75770\n",
       "15   19    male  24.600         1     no  southwest   1837.23700\n",
       "16   52  female  30.780         1     no  northeast  10797.33620\n",
       "17   23    male  23.845         0     no  northeast   2395.17155\n",
       "18   56    male  40.300         0     no  southwest  10602.38500\n",
       "19   30    male  35.300         0    yes  southwest  36837.46700"
      ]
     },
     "execution_count": 263,
     "metadata": {},
     "output_type": "execute_result"
    }
   ],
   "source": [
    "my_data.head(20)"
   ]
  },
  {
   "cell_type": "code",
   "execution_count": 264,
   "id": "cd779b57-834e-443c-af89-1550e9ee4e0d",
   "metadata": {},
   "outputs": [
    {
     "name": "stdout",
     "output_type": "stream",
     "text": [
      "\n",
      "After capitalizing:\n",
      "\n",
      "['Age', 'Sex', 'Bmi', 'Children', 'Smoker', 'Region', 'Charges']\n",
      "\n",
      "DataFrame:\n",
      "\n",
      "      Age     Sex     Bmi  Children Smoker     Region      Charges\n",
      "0      19  female  27.900         0    yes  southwest  16884.92400\n",
      "1      18    male  33.770         1     no  southeast   1725.55230\n",
      "2      28    male  33.000         3     no  southeast   4449.46200\n",
      "3      33    male  22.705         0     no  northwest  21984.47061\n",
      "4      32    male  28.880         0     no  northwest   3866.85520\n",
      "...   ...     ...     ...       ...    ...        ...          ...\n",
      "1333   50    male  30.970         3     no  northwest  10600.54830\n",
      "1334   18  female  31.920         0     no  northeast   2205.98080\n",
      "1335   18  female  36.850         0     no  southeast   1629.83350\n",
      "1336   21  female  25.800         0     no  southwest   2007.94500\n",
      "1337   61  female  29.070         0    yes  northwest  29141.36030\n",
      "\n",
      "[1338 rows x 7 columns]\n"
     ]
    }
   ],
   "source": [
    "# Capitalizing first letter of each column name\n",
    "my_data.columns = my_data.columns.str.capitalize()\n",
    "\n",
    "print(\"\\nAfter capitalizing:\\n\")\n",
    "print(list(my_data.columns))\n",
    "print(\"\\nDataFrame:\\n\")\n",
    "print(my_data)"
   ]
  },
  {
   "cell_type": "code",
   "execution_count": 265,
   "id": "b5a26d2d-91a6-4494-9927-2dd321f9237f",
   "metadata": {},
   "outputs": [
    {
     "data": {
      "text/plain": [
       "1"
      ]
     },
     "execution_count": 265,
     "metadata": {},
     "output_type": "execute_result"
    }
   ],
   "source": [
    "# Checking for duplicates\n",
    "my_data.duplicated().sum()"
   ]
  },
  {
   "cell_type": "code",
   "execution_count": 266,
   "id": "10f99936-a30b-42e9-b212-dae08eade077",
   "metadata": {},
   "outputs": [
    {
     "name": "stdout",
     "output_type": "stream",
     "text": [
      "\n",
      "Duplicate values:\n",
      "\n",
      "     Age   Sex    Bmi  Children Smoker     Region    Charges\n",
      "195   19  male  30.59         0     no  northwest  1639.5631\n",
      "581   19  male  30.59         0     no  northwest  1639.5631\n"
     ]
    }
   ],
   "source": [
    "# Searching for the duplicate values\n",
    "duplicates = my_data[my_data.duplicated(keep=False)]\n",
    "print(\"\\nDuplicate values:\\n\")\n",
    "print(duplicates)"
   ]
  },
  {
   "cell_type": "code",
   "execution_count": 267,
   "id": "6d1fdbac-b1f8-4bf8-b9f8-c2302befaeaa",
   "metadata": {},
   "outputs": [
    {
     "name": "stdout",
     "output_type": "stream",
     "text": [
      "\n",
      "After removing duplicates:\n",
      "\n",
      "      Age     Sex     Bmi  Children Smoker     Region      Charges\n",
      "0      19  female  27.900         0    yes  southwest  16884.92400\n",
      "1      18    male  33.770         1     no  southeast   1725.55230\n",
      "2      28    male  33.000         3     no  southeast   4449.46200\n",
      "3      33    male  22.705         0     no  northwest  21984.47061\n",
      "4      32    male  28.880         0     no  northwest   3866.85520\n",
      "...   ...     ...     ...       ...    ...        ...          ...\n",
      "1333   50    male  30.970         3     no  northwest  10600.54830\n",
      "1334   18  female  31.920         0     no  northeast   2205.98080\n",
      "1335   18  female  36.850         0     no  southeast   1629.83350\n",
      "1336   21  female  25.800         0     no  southwest   2007.94500\n",
      "1337   61  female  29.070         0    yes  northwest  29141.36030\n",
      "\n",
      "[1337 rows x 7 columns]\n",
      "\n",
      " No More Duplicate Data\n"
     ]
    }
   ],
   "source": [
    "# Remove duplicate\n",
    "remove_duplicate = my_data.drop_duplicates()\n",
    "print(\"\\nAfter removing duplicates:\\n\")\n",
    "print(remove_duplicate)\n",
    "\n",
    "if remove_duplicate.duplicated().sum() > 0: #\n",
    "    print(\"Duplicate still exists\")\n",
    "else:\n",
    "    print(\"\\n No More Duplicate Data\")"
   ]
  },
  {
   "cell_type": "code",
   "execution_count": 268,
   "id": "7bdf8bc6-749e-4176-9505-b14dc35d6088",
   "metadata": {},
   "outputs": [
    {
     "data": {
      "application/vnd.microsoft.datawrangler.viewer.v0+json": {
       "columns": [
        {
         "name": "index",
         "rawType": "object",
         "type": "string"
        },
        {
         "name": "Age",
         "rawType": "float64",
         "type": "float"
        },
        {
         "name": "Bmi",
         "rawType": "float64",
         "type": "float"
        },
        {
         "name": "Children",
         "rawType": "float64",
         "type": "float"
        },
        {
         "name": "Charges",
         "rawType": "float64",
         "type": "float"
        }
       ],
       "ref": "976640a1-1b4c-4a5f-b053-95646260b5a7",
       "rows": [
        [
         "count",
         "1338.0",
         "1338.0",
         "1338.0",
         "1338.0"
        ],
        [
         "mean",
         "39.20702541106129",
         "30.66339686098655",
         "1.0949177877429",
         "13270.422265141257"
        ],
        [
         "std",
         "14.049960379216172",
         "6.098186911679017",
         "1.2054927397819095",
         "12110.011236693994"
        ],
        [
         "min",
         "18.0",
         "15.96",
         "0.0",
         "1121.8739"
        ],
        [
         "25%",
         "27.0",
         "26.29625",
         "0.0",
         "4740.28715"
        ],
        [
         "50%",
         "39.0",
         "30.4",
         "1.0",
         "9382.033"
        ],
        [
         "75%",
         "51.0",
         "34.69375",
         "2.0",
         "16639.912515"
        ],
        [
         "max",
         "64.0",
         "53.13",
         "5.0",
         "63770.42801"
        ]
       ],
       "shape": {
        "columns": 4,
        "rows": 8
       }
      },
      "text/html": [
       "<div>\n",
       "<style scoped>\n",
       "    .dataframe tbody tr th:only-of-type {\n",
       "        vertical-align: middle;\n",
       "    }\n",
       "\n",
       "    .dataframe tbody tr th {\n",
       "        vertical-align: top;\n",
       "    }\n",
       "\n",
       "    .dataframe thead th {\n",
       "        text-align: right;\n",
       "    }\n",
       "</style>\n",
       "<table border=\"1\" class=\"dataframe\">\n",
       "  <thead>\n",
       "    <tr style=\"text-align: right;\">\n",
       "      <th></th>\n",
       "      <th>Age</th>\n",
       "      <th>Bmi</th>\n",
       "      <th>Children</th>\n",
       "      <th>Charges</th>\n",
       "    </tr>\n",
       "  </thead>\n",
       "  <tbody>\n",
       "    <tr>\n",
       "      <th>count</th>\n",
       "      <td>1338.000000</td>\n",
       "      <td>1338.000000</td>\n",
       "      <td>1338.000000</td>\n",
       "      <td>1338.000000</td>\n",
       "    </tr>\n",
       "    <tr>\n",
       "      <th>mean</th>\n",
       "      <td>39.207025</td>\n",
       "      <td>30.663397</td>\n",
       "      <td>1.094918</td>\n",
       "      <td>13270.422265</td>\n",
       "    </tr>\n",
       "    <tr>\n",
       "      <th>std</th>\n",
       "      <td>14.049960</td>\n",
       "      <td>6.098187</td>\n",
       "      <td>1.205493</td>\n",
       "      <td>12110.011237</td>\n",
       "    </tr>\n",
       "    <tr>\n",
       "      <th>min</th>\n",
       "      <td>18.000000</td>\n",
       "      <td>15.960000</td>\n",
       "      <td>0.000000</td>\n",
       "      <td>1121.873900</td>\n",
       "    </tr>\n",
       "    <tr>\n",
       "      <th>25%</th>\n",
       "      <td>27.000000</td>\n",
       "      <td>26.296250</td>\n",
       "      <td>0.000000</td>\n",
       "      <td>4740.287150</td>\n",
       "    </tr>\n",
       "    <tr>\n",
       "      <th>50%</th>\n",
       "      <td>39.000000</td>\n",
       "      <td>30.400000</td>\n",
       "      <td>1.000000</td>\n",
       "      <td>9382.033000</td>\n",
       "    </tr>\n",
       "    <tr>\n",
       "      <th>75%</th>\n",
       "      <td>51.000000</td>\n",
       "      <td>34.693750</td>\n",
       "      <td>2.000000</td>\n",
       "      <td>16639.912515</td>\n",
       "    </tr>\n",
       "    <tr>\n",
       "      <th>max</th>\n",
       "      <td>64.000000</td>\n",
       "      <td>53.130000</td>\n",
       "      <td>5.000000</td>\n",
       "      <td>63770.428010</td>\n",
       "    </tr>\n",
       "  </tbody>\n",
       "</table>\n",
       "</div>"
      ],
      "text/plain": [
       "               Age          Bmi     Children       Charges\n",
       "count  1338.000000  1338.000000  1338.000000   1338.000000\n",
       "mean     39.207025    30.663397     1.094918  13270.422265\n",
       "std      14.049960     6.098187     1.205493  12110.011237\n",
       "min      18.000000    15.960000     0.000000   1121.873900\n",
       "25%      27.000000    26.296250     0.000000   4740.287150\n",
       "50%      39.000000    30.400000     1.000000   9382.033000\n",
       "75%      51.000000    34.693750     2.000000  16639.912515\n",
       "max      64.000000    53.130000     5.000000  63770.428010"
      ]
     },
     "execution_count": 268,
     "metadata": {},
     "output_type": "execute_result"
    }
   ],
   "source": [
    "my_data.describe()"
   ]
  },
  {
   "cell_type": "code",
   "execution_count": 269,
   "id": "02421c8b-22b4-44ff-a852-06a9258ff8a5",
   "metadata": {},
   "outputs": [
    {
     "data": {
      "application/vnd.microsoft.datawrangler.viewer.v0+json": {
       "columns": [
        {
         "name": "index",
         "rawType": "int64",
         "type": "integer"
        },
        {
         "name": "Charges_display",
         "rawType": "object",
         "type": "string"
        }
       ],
       "ref": "b4820603-1cce-417d-8f75-23202b293e47",
       "rows": [
        [
         "0",
         "€16,884.92"
        ],
        [
         "1",
         "€1,725.55"
        ],
        [
         "2",
         "€4,449.46"
        ],
        [
         "3",
         "€21,984.47"
        ],
        [
         "4",
         "€3,866.86"
        ],
        [
         "5",
         "€3,756.62"
        ],
        [
         "6",
         "€8,240.59"
        ],
        [
         "7",
         "€7,281.51"
        ],
        [
         "8",
         "€6,406.41"
        ],
        [
         "9",
         "€28,923.14"
        ],
        [
         "10",
         "€2,721.32"
        ],
        [
         "11",
         "€27,808.73"
        ],
        [
         "12",
         "€1,826.84"
        ],
        [
         "13",
         "€11,090.72"
        ],
        [
         "14",
         "€39,611.76"
        ],
        [
         "15",
         "€1,837.24"
        ],
        [
         "16",
         "€10,797.34"
        ],
        [
         "17",
         "€2,395.17"
        ],
        [
         "18",
         "€10,602.39"
        ],
        [
         "19",
         "€36,837.47"
        ],
        [
         "20",
         "€13,228.85"
        ],
        [
         "21",
         "€4,149.74"
        ],
        [
         "22",
         "€1,137.01"
        ],
        [
         "23",
         "€37,701.88"
        ],
        [
         "24",
         "€6,203.90"
        ],
        [
         "25",
         "€14,001.13"
        ],
        [
         "26",
         "€14,451.84"
        ],
        [
         "27",
         "€12,268.63"
        ],
        [
         "28",
         "€2,775.19"
        ],
        [
         "29",
         "€38,711.00"
        ],
        [
         "30",
         "€35,585.58"
        ],
        [
         "31",
         "€2,198.19"
        ],
        [
         "32",
         "€4,687.80"
        ],
        [
         "33",
         "€13,770.10"
        ],
        [
         "34",
         "€51,194.56"
        ],
        [
         "35",
         "€1,625.43"
        ],
        [
         "36",
         "€15,612.19"
        ],
        [
         "37",
         "€2,302.30"
        ],
        [
         "38",
         "€39,774.28"
        ],
        [
         "39",
         "€48,173.36"
        ],
        [
         "40",
         "€3,046.06"
        ],
        [
         "41",
         "€4,949.76"
        ],
        [
         "42",
         "€6,272.48"
        ],
        [
         "43",
         "€6,313.76"
        ],
        [
         "44",
         "€6,079.67"
        ],
        [
         "45",
         "€20,630.28"
        ],
        [
         "46",
         "€3,393.36"
        ],
        [
         "47",
         "€3,556.92"
        ],
        [
         "48",
         "€12,629.90"
        ],
        [
         "49",
         "€38,709.18"
        ]
       ],
       "shape": {
        "columns": 1,
        "rows": 1338
       }
      },
      "text/plain": [
       "0       €16,884.92\n",
       "1        €1,725.55\n",
       "2        €4,449.46\n",
       "3       €21,984.47\n",
       "4        €3,866.86\n",
       "           ...    \n",
       "1333    €10,600.55\n",
       "1334     €2,205.98\n",
       "1335     €1,629.83\n",
       "1336     €2,007.94\n",
       "1337    €29,141.36\n",
       "Name: Charges_display, Length: 1338, dtype: object"
      ]
     },
     "execution_count": 269,
     "metadata": {},
     "output_type": "execute_result"
    }
   ],
   "source": [
    "# Create a new Charge column in currency format in my region for display purpose.\n",
    "my_data['Charges_display'] = my_data['Charges'].apply(lambda x: f'€{x:,.2f}')\n",
    "my_data['Charges_display']"
   ]
  },
  {
   "cell_type": "code",
   "execution_count": 270,
   "id": "0e25eec5-ff6e-4538-a715-a921ae156bfb",
   "metadata": {},
   "outputs": [
    {
     "data": {
      "application/vnd.microsoft.datawrangler.viewer.v0+json": {
       "columns": [
        {
         "name": "index",
         "rawType": "int64",
         "type": "integer"
        },
        {
         "name": "Age",
         "rawType": "int64",
         "type": "integer"
        },
        {
         "name": "Sex",
         "rawType": "object",
         "type": "string"
        },
        {
         "name": "Bmi",
         "rawType": "float64",
         "type": "float"
        },
        {
         "name": "Children",
         "rawType": "int64",
         "type": "integer"
        },
        {
         "name": "Smoker",
         "rawType": "object",
         "type": "string"
        },
        {
         "name": "Region",
         "rawType": "object",
         "type": "string"
        },
        {
         "name": "Charges",
         "rawType": "float64",
         "type": "float"
        },
        {
         "name": "Charges_display",
         "rawType": "object",
         "type": "string"
        }
       ],
       "ref": "975b8d07-3e72-405a-b5b1-141e329c81d5",
       "rows": [
        [
         "0",
         "19",
         "female",
         "27.9",
         "0",
         "yes",
         "southwest",
         "16884.924",
         "€16,884.92"
        ],
        [
         "1",
         "18",
         "male",
         "33.77",
         "1",
         "no",
         "southeast",
         "1725.5523",
         "€1,725.55"
        ],
        [
         "2",
         "28",
         "male",
         "33.0",
         "3",
         "no",
         "southeast",
         "4449.462",
         "€4,449.46"
        ],
        [
         "3",
         "33",
         "male",
         "22.705",
         "0",
         "no",
         "northwest",
         "21984.47061",
         "€21,984.47"
        ],
        [
         "4",
         "32",
         "male",
         "28.88",
         "0",
         "no",
         "northwest",
         "3866.8552",
         "€3,866.86"
        ],
        [
         "5",
         "31",
         "female",
         "25.74",
         "0",
         "no",
         "southeast",
         "3756.6216",
         "€3,756.62"
        ],
        [
         "6",
         "46",
         "female",
         "33.44",
         "1",
         "no",
         "southeast",
         "8240.5896",
         "€8,240.59"
        ],
        [
         "7",
         "37",
         "female",
         "27.74",
         "3",
         "no",
         "northwest",
         "7281.5056",
         "€7,281.51"
        ],
        [
         "8",
         "37",
         "male",
         "29.83",
         "2",
         "no",
         "northeast",
         "6406.4107",
         "€6,406.41"
        ],
        [
         "9",
         "60",
         "female",
         "25.84",
         "0",
         "no",
         "northwest",
         "28923.13692",
         "€28,923.14"
        ],
        [
         "10",
         "25",
         "male",
         "26.22",
         "0",
         "no",
         "northeast",
         "2721.3208",
         "€2,721.32"
        ],
        [
         "11",
         "62",
         "female",
         "26.29",
         "0",
         "yes",
         "southeast",
         "27808.7251",
         "€27,808.73"
        ],
        [
         "12",
         "23",
         "male",
         "34.4",
         "0",
         "no",
         "southwest",
         "1826.843",
         "€1,826.84"
        ],
        [
         "13",
         "56",
         "female",
         "39.82",
         "0",
         "no",
         "southeast",
         "11090.7178",
         "€11,090.72"
        ],
        [
         "14",
         "27",
         "male",
         "42.13",
         "0",
         "yes",
         "southeast",
         "39611.7577",
         "€39,611.76"
        ],
        [
         "15",
         "19",
         "male",
         "24.6",
         "1",
         "no",
         "southwest",
         "1837.237",
         "€1,837.24"
        ],
        [
         "16",
         "52",
         "female",
         "30.78",
         "1",
         "no",
         "northeast",
         "10797.3362",
         "€10,797.34"
        ],
        [
         "17",
         "23",
         "male",
         "23.845",
         "0",
         "no",
         "northeast",
         "2395.17155",
         "€2,395.17"
        ],
        [
         "18",
         "56",
         "male",
         "40.3",
         "0",
         "no",
         "southwest",
         "10602.385",
         "€10,602.39"
        ],
        [
         "19",
         "30",
         "male",
         "35.3",
         "0",
         "yes",
         "southwest",
         "36837.467",
         "€36,837.47"
        ]
       ],
       "shape": {
        "columns": 8,
        "rows": 20
       }
      },
      "text/html": [
       "<div>\n",
       "<style scoped>\n",
       "    .dataframe tbody tr th:only-of-type {\n",
       "        vertical-align: middle;\n",
       "    }\n",
       "\n",
       "    .dataframe tbody tr th {\n",
       "        vertical-align: top;\n",
       "    }\n",
       "\n",
       "    .dataframe thead th {\n",
       "        text-align: right;\n",
       "    }\n",
       "</style>\n",
       "<table border=\"1\" class=\"dataframe\">\n",
       "  <thead>\n",
       "    <tr style=\"text-align: right;\">\n",
       "      <th></th>\n",
       "      <th>Age</th>\n",
       "      <th>Sex</th>\n",
       "      <th>Bmi</th>\n",
       "      <th>Children</th>\n",
       "      <th>Smoker</th>\n",
       "      <th>Region</th>\n",
       "      <th>Charges</th>\n",
       "      <th>Charges_display</th>\n",
       "    </tr>\n",
       "  </thead>\n",
       "  <tbody>\n",
       "    <tr>\n",
       "      <th>0</th>\n",
       "      <td>19</td>\n",
       "      <td>female</td>\n",
       "      <td>27.900</td>\n",
       "      <td>0</td>\n",
       "      <td>yes</td>\n",
       "      <td>southwest</td>\n",
       "      <td>16884.92400</td>\n",
       "      <td>€16,884.92</td>\n",
       "    </tr>\n",
       "    <tr>\n",
       "      <th>1</th>\n",
       "      <td>18</td>\n",
       "      <td>male</td>\n",
       "      <td>33.770</td>\n",
       "      <td>1</td>\n",
       "      <td>no</td>\n",
       "      <td>southeast</td>\n",
       "      <td>1725.55230</td>\n",
       "      <td>€1,725.55</td>\n",
       "    </tr>\n",
       "    <tr>\n",
       "      <th>2</th>\n",
       "      <td>28</td>\n",
       "      <td>male</td>\n",
       "      <td>33.000</td>\n",
       "      <td>3</td>\n",
       "      <td>no</td>\n",
       "      <td>southeast</td>\n",
       "      <td>4449.46200</td>\n",
       "      <td>€4,449.46</td>\n",
       "    </tr>\n",
       "    <tr>\n",
       "      <th>3</th>\n",
       "      <td>33</td>\n",
       "      <td>male</td>\n",
       "      <td>22.705</td>\n",
       "      <td>0</td>\n",
       "      <td>no</td>\n",
       "      <td>northwest</td>\n",
       "      <td>21984.47061</td>\n",
       "      <td>€21,984.47</td>\n",
       "    </tr>\n",
       "    <tr>\n",
       "      <th>4</th>\n",
       "      <td>32</td>\n",
       "      <td>male</td>\n",
       "      <td>28.880</td>\n",
       "      <td>0</td>\n",
       "      <td>no</td>\n",
       "      <td>northwest</td>\n",
       "      <td>3866.85520</td>\n",
       "      <td>€3,866.86</td>\n",
       "    </tr>\n",
       "    <tr>\n",
       "      <th>5</th>\n",
       "      <td>31</td>\n",
       "      <td>female</td>\n",
       "      <td>25.740</td>\n",
       "      <td>0</td>\n",
       "      <td>no</td>\n",
       "      <td>southeast</td>\n",
       "      <td>3756.62160</td>\n",
       "      <td>€3,756.62</td>\n",
       "    </tr>\n",
       "    <tr>\n",
       "      <th>6</th>\n",
       "      <td>46</td>\n",
       "      <td>female</td>\n",
       "      <td>33.440</td>\n",
       "      <td>1</td>\n",
       "      <td>no</td>\n",
       "      <td>southeast</td>\n",
       "      <td>8240.58960</td>\n",
       "      <td>€8,240.59</td>\n",
       "    </tr>\n",
       "    <tr>\n",
       "      <th>7</th>\n",
       "      <td>37</td>\n",
       "      <td>female</td>\n",
       "      <td>27.740</td>\n",
       "      <td>3</td>\n",
       "      <td>no</td>\n",
       "      <td>northwest</td>\n",
       "      <td>7281.50560</td>\n",
       "      <td>€7,281.51</td>\n",
       "    </tr>\n",
       "    <tr>\n",
       "      <th>8</th>\n",
       "      <td>37</td>\n",
       "      <td>male</td>\n",
       "      <td>29.830</td>\n",
       "      <td>2</td>\n",
       "      <td>no</td>\n",
       "      <td>northeast</td>\n",
       "      <td>6406.41070</td>\n",
       "      <td>€6,406.41</td>\n",
       "    </tr>\n",
       "    <tr>\n",
       "      <th>9</th>\n",
       "      <td>60</td>\n",
       "      <td>female</td>\n",
       "      <td>25.840</td>\n",
       "      <td>0</td>\n",
       "      <td>no</td>\n",
       "      <td>northwest</td>\n",
       "      <td>28923.13692</td>\n",
       "      <td>€28,923.14</td>\n",
       "    </tr>\n",
       "    <tr>\n",
       "      <th>10</th>\n",
       "      <td>25</td>\n",
       "      <td>male</td>\n",
       "      <td>26.220</td>\n",
       "      <td>0</td>\n",
       "      <td>no</td>\n",
       "      <td>northeast</td>\n",
       "      <td>2721.32080</td>\n",
       "      <td>€2,721.32</td>\n",
       "    </tr>\n",
       "    <tr>\n",
       "      <th>11</th>\n",
       "      <td>62</td>\n",
       "      <td>female</td>\n",
       "      <td>26.290</td>\n",
       "      <td>0</td>\n",
       "      <td>yes</td>\n",
       "      <td>southeast</td>\n",
       "      <td>27808.72510</td>\n",
       "      <td>€27,808.73</td>\n",
       "    </tr>\n",
       "    <tr>\n",
       "      <th>12</th>\n",
       "      <td>23</td>\n",
       "      <td>male</td>\n",
       "      <td>34.400</td>\n",
       "      <td>0</td>\n",
       "      <td>no</td>\n",
       "      <td>southwest</td>\n",
       "      <td>1826.84300</td>\n",
       "      <td>€1,826.84</td>\n",
       "    </tr>\n",
       "    <tr>\n",
       "      <th>13</th>\n",
       "      <td>56</td>\n",
       "      <td>female</td>\n",
       "      <td>39.820</td>\n",
       "      <td>0</td>\n",
       "      <td>no</td>\n",
       "      <td>southeast</td>\n",
       "      <td>11090.71780</td>\n",
       "      <td>€11,090.72</td>\n",
       "    </tr>\n",
       "    <tr>\n",
       "      <th>14</th>\n",
       "      <td>27</td>\n",
       "      <td>male</td>\n",
       "      <td>42.130</td>\n",
       "      <td>0</td>\n",
       "      <td>yes</td>\n",
       "      <td>southeast</td>\n",
       "      <td>39611.75770</td>\n",
       "      <td>€39,611.76</td>\n",
       "    </tr>\n",
       "    <tr>\n",
       "      <th>15</th>\n",
       "      <td>19</td>\n",
       "      <td>male</td>\n",
       "      <td>24.600</td>\n",
       "      <td>1</td>\n",
       "      <td>no</td>\n",
       "      <td>southwest</td>\n",
       "      <td>1837.23700</td>\n",
       "      <td>€1,837.24</td>\n",
       "    </tr>\n",
       "    <tr>\n",
       "      <th>16</th>\n",
       "      <td>52</td>\n",
       "      <td>female</td>\n",
       "      <td>30.780</td>\n",
       "      <td>1</td>\n",
       "      <td>no</td>\n",
       "      <td>northeast</td>\n",
       "      <td>10797.33620</td>\n",
       "      <td>€10,797.34</td>\n",
       "    </tr>\n",
       "    <tr>\n",
       "      <th>17</th>\n",
       "      <td>23</td>\n",
       "      <td>male</td>\n",
       "      <td>23.845</td>\n",
       "      <td>0</td>\n",
       "      <td>no</td>\n",
       "      <td>northeast</td>\n",
       "      <td>2395.17155</td>\n",
       "      <td>€2,395.17</td>\n",
       "    </tr>\n",
       "    <tr>\n",
       "      <th>18</th>\n",
       "      <td>56</td>\n",
       "      <td>male</td>\n",
       "      <td>40.300</td>\n",
       "      <td>0</td>\n",
       "      <td>no</td>\n",
       "      <td>southwest</td>\n",
       "      <td>10602.38500</td>\n",
       "      <td>€10,602.39</td>\n",
       "    </tr>\n",
       "    <tr>\n",
       "      <th>19</th>\n",
       "      <td>30</td>\n",
       "      <td>male</td>\n",
       "      <td>35.300</td>\n",
       "      <td>0</td>\n",
       "      <td>yes</td>\n",
       "      <td>southwest</td>\n",
       "      <td>36837.46700</td>\n",
       "      <td>€36,837.47</td>\n",
       "    </tr>\n",
       "  </tbody>\n",
       "</table>\n",
       "</div>"
      ],
      "text/plain": [
       "    Age     Sex     Bmi  Children Smoker     Region      Charges  \\\n",
       "0    19  female  27.900         0    yes  southwest  16884.92400   \n",
       "1    18    male  33.770         1     no  southeast   1725.55230   \n",
       "2    28    male  33.000         3     no  southeast   4449.46200   \n",
       "3    33    male  22.705         0     no  northwest  21984.47061   \n",
       "4    32    male  28.880         0     no  northwest   3866.85520   \n",
       "5    31  female  25.740         0     no  southeast   3756.62160   \n",
       "6    46  female  33.440         1     no  southeast   8240.58960   \n",
       "7    37  female  27.740         3     no  northwest   7281.50560   \n",
       "8    37    male  29.830         2     no  northeast   6406.41070   \n",
       "9    60  female  25.840         0     no  northwest  28923.13692   \n",
       "10   25    male  26.220         0     no  northeast   2721.32080   \n",
       "11   62  female  26.290         0    yes  southeast  27808.72510   \n",
       "12   23    male  34.400         0     no  southwest   1826.84300   \n",
       "13   56  female  39.820         0     no  southeast  11090.71780   \n",
       "14   27    male  42.130         0    yes  southeast  39611.75770   \n",
       "15   19    male  24.600         1     no  southwest   1837.23700   \n",
       "16   52  female  30.780         1     no  northeast  10797.33620   \n",
       "17   23    male  23.845         0     no  northeast   2395.17155   \n",
       "18   56    male  40.300         0     no  southwest  10602.38500   \n",
       "19   30    male  35.300         0    yes  southwest  36837.46700   \n",
       "\n",
       "   Charges_display  \n",
       "0       €16,884.92  \n",
       "1        €1,725.55  \n",
       "2        €4,449.46  \n",
       "3       €21,984.47  \n",
       "4        €3,866.86  \n",
       "5        €3,756.62  \n",
       "6        €8,240.59  \n",
       "7        €7,281.51  \n",
       "8        €6,406.41  \n",
       "9       €28,923.14  \n",
       "10       €2,721.32  \n",
       "11      €27,808.73  \n",
       "12       €1,826.84  \n",
       "13      €11,090.72  \n",
       "14      €39,611.76  \n",
       "15       €1,837.24  \n",
       "16      €10,797.34  \n",
       "17       €2,395.17  \n",
       "18      €10,602.39  \n",
       "19      €36,837.47  "
      ]
     },
     "execution_count": 270,
     "metadata": {},
     "output_type": "execute_result"
    }
   ],
   "source": [
    "my_data.head(20)"
   ]
  },
  {
   "cell_type": "code",
   "execution_count": 271,
   "id": "936139df-362d-479b-b043-ef09a2bd4ee7",
   "metadata": {},
   "outputs": [
    {
     "name": "stdout",
     "output_type": "stream",
     "text": [
      "0       0.298472\n",
      "1      -0.953333\n",
      "2      -0.728402\n",
      "3       0.719574\n",
      "4      -0.776512\n",
      "          ...   \n",
      "1333   -0.220468\n",
      "1334   -0.913661\n",
      "1335   -0.961237\n",
      "1336   -0.930014\n",
      "1337    1.310563\n",
      "Name: Charges, Length: 1338, dtype: float64\n"
     ]
    }
   ],
   "source": [
    "# Checking for outliers in the charges column by calculating the Z - Score\n",
    "my_mean = my_data['Charges'].mean()\n",
    "std_dev = my_data['Charges'].std()\n",
    "\n",
    "# Z-scores\n",
    "z_score = (my_data['Charges'] - my_mean) / std_dev\n",
    "print(z_score)"
   ]
  },
  {
   "cell_type": "code",
   "execution_count": 272,
   "id": "9fcd95a7-6f89-409f-a14d-1b890e7c45f9",
   "metadata": {},
   "outputs": [
    {
     "data": {
      "image/png": "[encoded data removed]",
      "text/plain": [
       "<Figure size 1000x600 with 1 Axes>"
      ]
     },
     "metadata": {},
     "output_type": "display_data"
    },
    {
     "data": {
      "image/png": "[encoded data removed]",
      "text/plain": [
       "<Figure size 1000x600 with 1 Axes>"
      ]
     },
     "metadata": {},
     "output_type": "display_data"
    }
   ],
   "source": [
    "# Using Boxplot and histogram visualization for better understanding of the outliers\n",
    "\n",
    "plt.figure(figsize=(10, 6))\n",
    "sns.boxplot(x = my_data['Charges'])\n",
    "plt.title('Distribution of Charges in Boxplot')\n",
    "plt.tight_layout(pad=1, w_pad=1, h_pad=1, rect=[0, 0, 1, 0.95])\n",
    "plt.show()\n",
    "\n",
    "\n",
    "plt.figure(figsize=(10, 6))\n",
    "plt.title('Distribution of Charges in Histogram')\n",
    "sns.histplot(x = my_data['Charges'], kde = True)\n",
    "plt.tight_layout(pad=1, w_pad=1, h_pad=1,rect=[0, 0, 1, 0.9])\n",
    "plt.show()\n"
   ]
  },
  {
   "cell_type": "code",
   "execution_count": 273,
   "id": "6efc9d3a-a913-465f-8ed1-899b28baacac",
   "metadata": {},
   "outputs": [
    {
     "data": {
      "application/vnd.microsoft.datawrangler.viewer.v0+json": {
       "columns": [
        {
         "name": "index",
         "rawType": "int64",
         "type": "integer"
        },
        {
         "name": "Age",
         "rawType": "bool",
         "type": "boolean"
        },
        {
         "name": "Sex",
         "rawType": "bool",
         "type": "boolean"
        },
        {
         "name": "Bmi",
         "rawType": "bool",
         "type": "boolean"
        },
        {
         "name": "Children",
         "rawType": "bool",
         "type": "boolean"
        },
        {
         "name": "Smoker",
         "rawType": "bool",
         "type": "boolean"
        },
        {
         "name": "Region",
         "rawType": "bool",
         "type": "boolean"
        },
        {
         "name": "Charges",
         "rawType": "bool",
         "type": "boolean"
        },
        {
         "name": "Charges_display",
         "rawType": "bool",
         "type": "boolean"
        }
       ],
       "ref": "f2d24c22-2102-4845-9d3f-004826dbb4da",
       "rows": [
        [
         "0",
         "False",
         "False",
         "False",
         "False",
         "False",
         "False",
         "False",
         "False"
        ],
        [
         "1",
         "False",
         "False",
         "False",
         "False",
         "False",
         "False",
         "False",
         "False"
        ],
        [
         "2",
         "False",
         "False",
         "False",
         "False",
         "False",
         "False",
         "False",
         "False"
        ],
        [
         "3",
         "False",
         "False",
         "False",
         "False",
         "False",
         "False",
         "False",
         "False"
        ],
        [
         "4",
         "False",
         "False",
         "False",
         "False",
         "False",
         "False",
         "False",
         "False"
        ],
        [
         "5",
         "False",
         "False",
         "False",
         "False",
         "False",
         "False",
         "False",
         "False"
        ],
        [
         "6",
         "False",
         "False",
         "False",
         "False",
         "False",
         "False",
         "False",
         "False"
        ],
        [
         "7",
         "False",
         "False",
         "False",
         "False",
         "False",
         "False",
         "False",
         "False"
        ],
        [
         "8",
         "False",
         "False",
         "False",
         "False",
         "False",
         "False",
         "False",
         "False"
        ],
        [
         "9",
         "False",
         "False",
         "False",
         "False",
         "False",
         "False",
         "False",
         "False"
        ],
        [
         "10",
         "False",
         "False",
         "False",
         "False",
         "False",
         "False",
         "False",
         "False"
        ],
        [
         "11",
         "False",
         "False",
         "False",
         "False",
         "False",
         "False",
         "False",
         "False"
        ],
        [
         "12",
         "False",
         "False",
         "False",
         "False",
         "False",
         "False",
         "False",
         "False"
        ],
        [
         "13",
         "False",
         "False",
         "False",
         "False",
         "False",
         "False",
         "False",
         "False"
        ],
        [
         "14",
         "False",
         "False",
         "False",
         "False",
         "False",
         "False",
         "False",
         "False"
        ],
        [
         "15",
         "False",
         "False",
         "False",
         "False",
         "False",
         "False",
         "False",
         "False"
        ],
        [
         "16",
         "False",
         "False",
         "False",
         "False",
         "False",
         "False",
         "False",
         "False"
        ],
        [
         "17",
         "False",
         "False",
         "False",
         "False",
         "False",
         "False",
         "False",
         "False"
        ],
        [
         "18",
         "False",
         "False",
         "False",
         "False",
         "False",
         "False",
         "False",
         "False"
        ],
        [
         "19",
         "False",
         "False",
         "False",
         "False",
         "False",
         "False",
         "False",
         "False"
        ],
        [
         "20",
         "False",
         "False",
         "False",
         "False",
         "False",
         "False",
         "False",
         "False"
        ],
        [
         "21",
         "False",
         "False",
         "False",
         "False",
         "False",
         "False",
         "False",
         "False"
        ],
        [
         "22",
         "False",
         "False",
         "False",
         "False",
         "False",
         "False",
         "False",
         "False"
        ],
        [
         "23",
         "False",
         "False",
         "False",
         "False",
         "False",
         "False",
         "False",
         "False"
        ],
        [
         "24",
         "False",
         "False",
         "False",
         "False",
         "False",
         "False",
         "False",
         "False"
        ],
        [
         "25",
         "False",
         "False",
         "False",
         "False",
         "False",
         "False",
         "False",
         "False"
        ],
        [
         "26",
         "False",
         "False",
         "False",
         "False",
         "False",
         "False",
         "False",
         "False"
        ],
        [
         "27",
         "False",
         "False",
         "False",
         "False",
         "False",
         "False",
         "False",
         "False"
        ],
        [
         "28",
         "False",
         "False",
         "False",
         "False",
         "False",
         "False",
         "False",
         "False"
        ],
        [
         "29",
         "False",
         "False",
         "False",
         "False",
         "False",
         "False",
         "False",
         "False"
        ],
        [
         "30",
         "False",
         "False",
         "False",
         "False",
         "False",
         "False",
         "False",
         "False"
        ],
        [
         "31",
         "False",
         "False",
         "False",
         "False",
         "False",
         "False",
         "False",
         "False"
        ],
        [
         "32",
         "False",
         "False",
         "False",
         "False",
         "False",
         "False",
         "False",
         "False"
        ],
        [
         "33",
         "False",
         "False",
         "False",
         "False",
         "False",
         "False",
         "False",
         "False"
        ],
        [
         "34",
         "False",
         "False",
         "False",
         "False",
         "False",
         "False",
         "False",
         "False"
        ],
        [
         "35",
         "False",
         "False",
         "False",
         "False",
         "False",
         "False",
         "False",
         "False"
        ],
        [
         "36",
         "False",
         "False",
         "False",
         "False",
         "False",
         "False",
         "False",
         "False"
        ],
        [
         "37",
         "False",
         "False",
         "False",
         "False",
         "False",
         "False",
         "False",
         "False"
        ],
        [
         "38",
         "False",
         "False",
         "False",
         "False",
         "False",
         "False",
         "False",
         "False"
        ],
        [
         "39",
         "False",
         "False",
         "False",
         "False",
         "False",
         "False",
         "False",
         "False"
        ],
        [
         "40",
         "False",
         "False",
         "False",
         "False",
         "False",
         "False",
         "False",
         "False"
        ],
        [
         "41",
         "False",
         "False",
         "False",
         "False",
         "False",
         "False",
         "False",
         "False"
        ],
        [
         "42",
         "False",
         "False",
         "False",
         "False",
         "False",
         "False",
         "False",
         "False"
        ],
        [
         "43",
         "False",
         "False",
         "False",
         "False",
         "False",
         "False",
         "False",
         "False"
        ],
        [
         "44",
         "False",
         "False",
         "False",
         "False",
         "False",
         "False",
         "False",
         "False"
        ],
        [
         "45",
         "False",
         "False",
         "False",
         "False",
         "False",
         "False",
         "False",
         "False"
        ],
        [
         "46",
         "False",
         "False",
         "False",
         "False",
         "False",
         "False",
         "False",
         "False"
        ],
        [
         "47",
         "False",
         "False",
         "False",
         "False",
         "False",
         "False",
         "False",
         "False"
        ],
        [
         "48",
         "False",
         "False",
         "False",
         "False",
         "False",
         "False",
         "False",
         "False"
        ],
        [
         "49",
         "False",
         "False",
         "False",
         "False",
         "False",
         "False",
         "False",
         "False"
        ]
       ],
       "shape": {
        "columns": 8,
        "rows": 1338
       }
      },
      "text/html": [
       "<div>\n",
       "<style scoped>\n",
       "    .dataframe tbody tr th:only-of-type {\n",
       "        vertical-align: middle;\n",
       "    }\n",
       "\n",
       "    .dataframe tbody tr th {\n",
       "        vertical-align: top;\n",
       "    }\n",
       "\n",
       "    .dataframe thead th {\n",
       "        text-align: right;\n",
       "    }\n",
       "</style>\n",
       "<table border=\"1\" class=\"dataframe\">\n",
       "  <thead>\n",
       "    <tr style=\"text-align: right;\">\n",
       "      <th></th>\n",
       "      <th>Age</th>\n",
       "      <th>Sex</th>\n",
       "      <th>Bmi</th>\n",
       "      <th>Children</th>\n",
       "      <th>Smoker</th>\n",
       "      <th>Region</th>\n",
       "      <th>Charges</th>\n",
       "      <th>Charges_display</th>\n",
       "    </tr>\n",
       "  </thead>\n",
       "  <tbody>\n",
       "    <tr>\n",
       "      <th>0</th>\n",
       "      <td>False</td>\n",
       "      <td>False</td>\n",
       "      <td>False</td>\n",
       "      <td>False</td>\n",
       "      <td>False</td>\n",
       "      <td>False</td>\n",
       "      <td>False</td>\n",
       "      <td>False</td>\n",
       "    </tr>\n",
       "    <tr>\n",
       "      <th>1</th>\n",
       "      <td>False</td>\n",
       "      <td>False</td>\n",
       "      <td>False</td>\n",
       "      <td>False</td>\n",
       "      <td>False</td>\n",
       "      <td>False</td>\n",
       "      <td>False</td>\n",
       "      <td>False</td>\n",
       "    </tr>\n",
       "    <tr>\n",
       "      <th>2</th>\n",
       "      <td>False</td>\n",
       "      <td>False</td>\n",
       "      <td>False</td>\n",
       "      <td>False</td>\n",
       "      <td>False</td>\n",
       "      <td>False</td>\n",
       "      <td>False</td>\n",
       "      <td>False</td>\n",
       "    </tr>\n",
       "    <tr>\n",
       "      <th>3</th>\n",
       "      <td>False</td>\n",
       "      <td>False</td>\n",
       "      <td>False</td>\n",
       "      <td>False</td>\n",
       "      <td>False</td>\n",
       "      <td>False</td>\n",
       "      <td>False</td>\n",
       "      <td>False</td>\n",
       "    </tr>\n",
       "    <tr>\n",
       "      <th>4</th>\n",
       "      <td>False</td>\n",
       "      <td>False</td>\n",
       "      <td>False</td>\n",
       "      <td>False</td>\n",
       "      <td>False</td>\n",
       "      <td>False</td>\n",
       "      <td>False</td>\n",
       "      <td>False</td>\n",
       "    </tr>\n",
       "    <tr>\n",
       "      <th>...</th>\n",
       "      <td>...</td>\n",
       "      <td>...</td>\n",
       "      <td>...</td>\n",
       "      <td>...</td>\n",
       "      <td>...</td>\n",
       "      <td>...</td>\n",
       "      <td>...</td>\n",
       "      <td>...</td>\n",
       "    </tr>\n",
       "    <tr>\n",
       "      <th>1333</th>\n",
       "      <td>False</td>\n",
       "      <td>False</td>\n",
       "      <td>False</td>\n",
       "      <td>False</td>\n",
       "      <td>False</td>\n",
       "      <td>False</td>\n",
       "      <td>False</td>\n",
       "      <td>False</td>\n",
       "    </tr>\n",
       "    <tr>\n",
       "      <th>1334</th>\n",
       "      <td>False</td>\n",
       "      <td>False</td>\n",
       "      <td>False</td>\n",
       "      <td>False</td>\n",
       "      <td>False</td>\n",
       "      <td>False</td>\n",
       "      <td>False</td>\n",
       "      <td>False</td>\n",
       "    </tr>\n",
       "    <tr>\n",
       "      <th>1335</th>\n",
       "      <td>False</td>\n",
       "      <td>False</td>\n",
       "      <td>False</td>\n",
       "      <td>False</td>\n",
       "      <td>False</td>\n",
       "      <td>False</td>\n",
       "      <td>False</td>\n",
       "      <td>False</td>\n",
       "    </tr>\n",
       "    <tr>\n",
       "      <th>1336</th>\n",
       "      <td>False</td>\n",
       "      <td>False</td>\n",
       "      <td>False</td>\n",
       "      <td>False</td>\n",
       "      <td>False</td>\n",
       "      <td>False</td>\n",
       "      <td>False</td>\n",
       "      <td>False</td>\n",
       "    </tr>\n",
       "    <tr>\n",
       "      <th>1337</th>\n",
       "      <td>False</td>\n",
       "      <td>False</td>\n",
       "      <td>False</td>\n",
       "      <td>False</td>\n",
       "      <td>False</td>\n",
       "      <td>False</td>\n",
       "      <td>False</td>\n",
       "      <td>False</td>\n",
       "    </tr>\n",
       "  </tbody>\n",
       "</table>\n",
       "<p>1338 rows × 8 columns</p>\n",
       "</div>"
      ],
      "text/plain": [
       "        Age    Sex    Bmi  Children  Smoker  Region  Charges  Charges_display\n",
       "0     False  False  False     False   False   False    False            False\n",
       "1     False  False  False     False   False   False    False            False\n",
       "2     False  False  False     False   False   False    False            False\n",
       "3     False  False  False     False   False   False    False            False\n",
       "4     False  False  False     False   False   False    False            False\n",
       "...     ...    ...    ...       ...     ...     ...      ...              ...\n",
       "1333  False  False  False     False   False   False    False            False\n",
       "1334  False  False  False     False   False   False    False            False\n",
       "1335  False  False  False     False   False   False    False            False\n",
       "1336  False  False  False     False   False   False    False            False\n",
       "1337  False  False  False     False   False   False    False            False\n",
       "\n",
       "[1338 rows x 8 columns]"
      ]
     },
     "execution_count": 273,
     "metadata": {},
     "output_type": "execute_result"
    }
   ],
   "source": [
    "# Finding missing values\n",
    "my_data.isnull()"
   ]
  },
  {
   "cell_type": "code",
   "execution_count": 274,
   "id": "a3ee7330-28aa-4e79-9ec5-fdbb8abaa73b",
   "metadata": {},
   "outputs": [
    {
     "data": {
      "application/vnd.microsoft.datawrangler.viewer.v0+json": {
       "columns": [
        {
         "name": "index",
         "rawType": "int64",
         "type": "integer"
        },
        {
         "name": "Age",
         "rawType": "int64",
         "type": "integer"
        },
        {
         "name": "Sex",
         "rawType": "object",
         "type": "string"
        },
        {
         "name": "Bmi",
         "rawType": "float64",
         "type": "float"
        },
        {
         "name": "Children",
         "rawType": "int64",
         "type": "integer"
        },
        {
         "name": "Smoker",
         "rawType": "object",
         "type": "string"
        },
        {
         "name": "Region",
         "rawType": "object",
         "type": "string"
        },
        {
         "name": "Charges",
         "rawType": "float64",
         "type": "float"
        },
        {
         "name": "Charges_display",
         "rawType": "object",
         "type": "string"
        }
       ],
       "ref": "c27a11bc-d021-4650-992e-4ed5fdc6b444",
       "rows": [
        [
         "543",
         "54",
         "female",
         "47.41",
         "0",
         "yes",
         "southeast",
         "63770.42801",
         "€63,770.43"
        ],
        [
         "1300",
         "45",
         "male",
         "30.36",
         "0",
         "yes",
         "southeast",
         "62592.87309",
         "€62,592.87"
        ],
        [
         "1230",
         "52",
         "male",
         "34.485",
         "3",
         "yes",
         "northwest",
         "60021.39897",
         "€60,021.40"
        ],
        [
         "577",
         "31",
         "female",
         "38.095",
         "1",
         "yes",
         "northeast",
         "58571.07448",
         "€58,571.07"
        ],
        [
         "819",
         "33",
         "female",
         "35.53",
         "0",
         "yes",
         "northwest",
         "55135.40209",
         "€55,135.40"
        ],
        [
         "1146",
         "60",
         "male",
         "32.8",
         "0",
         "yes",
         "southwest",
         "52590.82939",
         "€52,590.83"
        ],
        [
         "34",
         "28",
         "male",
         "36.4",
         "1",
         "yes",
         "southwest",
         "51194.55914",
         "€51,194.56"
        ],
        [
         "1241",
         "64",
         "male",
         "36.96",
         "2",
         "yes",
         "southeast",
         "49577.6624",
         "€49,577.66"
        ],
        [
         "1062",
         "59",
         "male",
         "41.14",
         "1",
         "yes",
         "southeast",
         "48970.2476",
         "€48,970.25"
        ],
        [
         "488",
         "44",
         "female",
         "38.06",
         "0",
         "yes",
         "southeast",
         "48885.13561",
         "€48,885.14"
        ]
       ],
       "shape": {
        "columns": 8,
        "rows": 10
       }
      },
      "text/html": [
       "<div>\n",
       "<style scoped>\n",
       "    .dataframe tbody tr th:only-of-type {\n",
       "        vertical-align: middle;\n",
       "    }\n",
       "\n",
       "    .dataframe tbody tr th {\n",
       "        vertical-align: top;\n",
       "    }\n",
       "\n",
       "    .dataframe thead th {\n",
       "        text-align: right;\n",
       "    }\n",
       "</style>\n",
       "<table border=\"1\" class=\"dataframe\">\n",
       "  <thead>\n",
       "    <tr style=\"text-align: right;\">\n",
       "      <th></th>\n",
       "      <th>Age</th>\n",
       "      <th>Sex</th>\n",
       "      <th>Bmi</th>\n",
       "      <th>Children</th>\n",
       "      <th>Smoker</th>\n",
       "      <th>Region</th>\n",
       "      <th>Charges</th>\n",
       "      <th>Charges_display</th>\n",
       "    </tr>\n",
       "  </thead>\n",
       "  <tbody>\n",
       "    <tr>\n",
       "      <th>543</th>\n",
       "      <td>54</td>\n",
       "      <td>female</td>\n",
       "      <td>47.410</td>\n",
       "      <td>0</td>\n",
       "      <td>yes</td>\n",
       "      <td>southeast</td>\n",
       "      <td>63770.42801</td>\n",
       "      <td>€63,770.43</td>\n",
       "    </tr>\n",
       "    <tr>\n",
       "      <th>1300</th>\n",
       "      <td>45</td>\n",
       "      <td>male</td>\n",
       "      <td>30.360</td>\n",
       "      <td>0</td>\n",
       "      <td>yes</td>\n",
       "      <td>southeast</td>\n",
       "      <td>62592.87309</td>\n",
       "      <td>€62,592.87</td>\n",
       "    </tr>\n",
       "    <tr>\n",
       "      <th>1230</th>\n",
       "      <td>52</td>\n",
       "      <td>male</td>\n",
       "      <td>34.485</td>\n",
       "      <td>3</td>\n",
       "      <td>yes</td>\n",
       "      <td>northwest</td>\n",
       "      <td>60021.39897</td>\n",
       "      <td>€60,021.40</td>\n",
       "    </tr>\n",
       "    <tr>\n",
       "      <th>577</th>\n",
       "      <td>31</td>\n",
       "      <td>female</td>\n",
       "      <td>38.095</td>\n",
       "      <td>1</td>\n",
       "      <td>yes</td>\n",
       "      <td>northeast</td>\n",
       "      <td>58571.07448</td>\n",
       "      <td>€58,571.07</td>\n",
       "    </tr>\n",
       "    <tr>\n",
       "      <th>819</th>\n",
       "      <td>33</td>\n",
       "      <td>female</td>\n",
       "      <td>35.530</td>\n",
       "      <td>0</td>\n",
       "      <td>yes</td>\n",
       "      <td>northwest</td>\n",
       "      <td>55135.40209</td>\n",
       "      <td>€55,135.40</td>\n",
       "    </tr>\n",
       "    <tr>\n",
       "      <th>1146</th>\n",
       "      <td>60</td>\n",
       "      <td>male</td>\n",
       "      <td>32.800</td>\n",
       "      <td>0</td>\n",
       "      <td>yes</td>\n",
       "      <td>southwest</td>\n",
       "      <td>52590.82939</td>\n",
       "      <td>€52,590.83</td>\n",
       "    </tr>\n",
       "    <tr>\n",
       "      <th>34</th>\n",
       "      <td>28</td>\n",
       "      <td>male</td>\n",
       "      <td>36.400</td>\n",
       "      <td>1</td>\n",
       "      <td>yes</td>\n",
       "      <td>southwest</td>\n",
       "      <td>51194.55914</td>\n",
       "      <td>€51,194.56</td>\n",
       "    </tr>\n",
       "    <tr>\n",
       "      <th>1241</th>\n",
       "      <td>64</td>\n",
       "      <td>male</td>\n",
       "      <td>36.960</td>\n",
       "      <td>2</td>\n",
       "      <td>yes</td>\n",
       "      <td>southeast</td>\n",
       "      <td>49577.66240</td>\n",
       "      <td>€49,577.66</td>\n",
       "    </tr>\n",
       "    <tr>\n",
       "      <th>1062</th>\n",
       "      <td>59</td>\n",
       "      <td>male</td>\n",
       "      <td>41.140</td>\n",
       "      <td>1</td>\n",
       "      <td>yes</td>\n",
       "      <td>southeast</td>\n",
       "      <td>48970.24760</td>\n",
       "      <td>€48,970.25</td>\n",
       "    </tr>\n",
       "    <tr>\n",
       "      <th>488</th>\n",
       "      <td>44</td>\n",
       "      <td>female</td>\n",
       "      <td>38.060</td>\n",
       "      <td>0</td>\n",
       "      <td>yes</td>\n",
       "      <td>southeast</td>\n",
       "      <td>48885.13561</td>\n",
       "      <td>€48,885.14</td>\n",
       "    </tr>\n",
       "  </tbody>\n",
       "</table>\n",
       "</div>"
      ],
      "text/plain": [
       "      Age     Sex     Bmi  Children Smoker     Region      Charges  \\\n",
       "543    54  female  47.410         0    yes  southeast  63770.42801   \n",
       "1300   45    male  30.360         0    yes  southeast  62592.87309   \n",
       "1230   52    male  34.485         3    yes  northwest  60021.39897   \n",
       "577    31  female  38.095         1    yes  northeast  58571.07448   \n",
       "819    33  female  35.530         0    yes  northwest  55135.40209   \n",
       "1146   60    male  32.800         0    yes  southwest  52590.82939   \n",
       "34     28    male  36.400         1    yes  southwest  51194.55914   \n",
       "1241   64    male  36.960         2    yes  southeast  49577.66240   \n",
       "1062   59    male  41.140         1    yes  southeast  48970.24760   \n",
       "488    44  female  38.060         0    yes  southeast  48885.13561   \n",
       "\n",
       "     Charges_display  \n",
       "543       €63,770.43  \n",
       "1300      €62,592.87  \n",
       "1230      €60,021.40  \n",
       "577       €58,571.07  \n",
       "819       €55,135.40  \n",
       "1146      €52,590.83  \n",
       "34        €51,194.56  \n",
       "1241      €49,577.66  \n",
       "1062      €48,970.25  \n",
       "488       €48,885.14  "
      ]
     },
     "execution_count": 274,
     "metadata": {},
     "output_type": "execute_result"
    }
   ],
   "source": [
    "# View top 10 highest values\n",
    "my_data.nlargest(10, 'Charges')"
   ]
  },
  {
   "cell_type": "code",
   "execution_count": 275,
   "id": "fc1ed964-7eab-444e-a4f4-929c2a1efae4",
   "metadata": {},
   "outputs": [
    {
     "data": {
      "application/vnd.microsoft.datawrangler.viewer.v0+json": {
       "columns": [
        {
         "name": "index",
         "rawType": "int64",
         "type": "integer"
        },
        {
         "name": "Age",
         "rawType": "int64",
         "type": "integer"
        },
        {
         "name": "Sex",
         "rawType": "object",
         "type": "string"
        },
        {
         "name": "Bmi",
         "rawType": "float64",
         "type": "float"
        },
        {
         "name": "Children",
         "rawType": "int64",
         "type": "integer"
        },
        {
         "name": "Smoker",
         "rawType": "object",
         "type": "string"
        },
        {
         "name": "Region",
         "rawType": "object",
         "type": "string"
        },
        {
         "name": "Charges",
         "rawType": "float64",
         "type": "float"
        },
        {
         "name": "Charges_display",
         "rawType": "object",
         "type": "string"
        }
       ],
       "ref": "d638f7b0-6e4b-481f-840a-74520139c705",
       "rows": [
        [
         "940",
         "18",
         "male",
         "23.21",
         "0",
         "no",
         "southeast",
         "1121.8739",
         "€1,121.87"
        ],
        [
         "808",
         "18",
         "male",
         "30.14",
         "0",
         "no",
         "southeast",
         "1131.5066",
         "€1,131.51"
        ],
        [
         "1244",
         "18",
         "male",
         "33.33",
         "0",
         "no",
         "southeast",
         "1135.9407",
         "€1,135.94"
        ],
        [
         "663",
         "18",
         "male",
         "33.66",
         "0",
         "no",
         "southeast",
         "1136.3994",
         "€1,136.40"
        ],
        [
         "22",
         "18",
         "male",
         "34.1",
         "0",
         "no",
         "southeast",
         "1137.011",
         "€1,137.01"
        ],
        [
         "194",
         "18",
         "male",
         "34.43",
         "0",
         "no",
         "southeast",
         "1137.4697",
         "€1,137.47"
        ],
        [
         "866",
         "18",
         "male",
         "37.29",
         "0",
         "no",
         "southeast",
         "1141.4451",
         "€1,141.45"
        ],
        [
         "781",
         "18",
         "male",
         "41.14",
         "0",
         "no",
         "southeast",
         "1146.7966",
         "€1,146.80"
        ],
        [
         "442",
         "18",
         "male",
         "43.01",
         "0",
         "no",
         "southeast",
         "1149.3959",
         "€1,149.40"
        ],
        [
         "1317",
         "18",
         "male",
         "53.13",
         "0",
         "no",
         "southeast",
         "1163.4627",
         "€1,163.46"
        ]
       ],
       "shape": {
        "columns": 8,
        "rows": 10
       }
      },
      "text/html": [
       "<div>\n",
       "<style scoped>\n",
       "    .dataframe tbody tr th:only-of-type {\n",
       "        vertical-align: middle;\n",
       "    }\n",
       "\n",
       "    .dataframe tbody tr th {\n",
       "        vertical-align: top;\n",
       "    }\n",
       "\n",
       "    .dataframe thead th {\n",
       "        text-align: right;\n",
       "    }\n",
       "</style>\n",
       "<table border=\"1\" class=\"dataframe\">\n",
       "  <thead>\n",
       "    <tr style=\"text-align: right;\">\n",
       "      <th></th>\n",
       "      <th>Age</th>\n",
       "      <th>Sex</th>\n",
       "      <th>Bmi</th>\n",
       "      <th>Children</th>\n",
       "      <th>Smoker</th>\n",
       "      <th>Region</th>\n",
       "      <th>Charges</th>\n",
       "      <th>Charges_display</th>\n",
       "    </tr>\n",
       "  </thead>\n",
       "  <tbody>\n",
       "    <tr>\n",
       "      <th>940</th>\n",
       "      <td>18</td>\n",
       "      <td>male</td>\n",
       "      <td>23.21</td>\n",
       "      <td>0</td>\n",
       "      <td>no</td>\n",
       "      <td>southeast</td>\n",
       "      <td>1121.8739</td>\n",
       "      <td>€1,121.87</td>\n",
       "    </tr>\n",
       "    <tr>\n",
       "      <th>808</th>\n",
       "      <td>18</td>\n",
       "      <td>male</td>\n",
       "      <td>30.14</td>\n",
       "      <td>0</td>\n",
       "      <td>no</td>\n",
       "      <td>southeast</td>\n",
       "      <td>1131.5066</td>\n",
       "      <td>€1,131.51</td>\n",
       "    </tr>\n",
       "    <tr>\n",
       "      <th>1244</th>\n",
       "      <td>18</td>\n",
       "      <td>male</td>\n",
       "      <td>33.33</td>\n",
       "      <td>0</td>\n",
       "      <td>no</td>\n",
       "      <td>southeast</td>\n",
       "      <td>1135.9407</td>\n",
       "      <td>€1,135.94</td>\n",
       "    </tr>\n",
       "    <tr>\n",
       "      <th>663</th>\n",
       "      <td>18</td>\n",
       "      <td>male</td>\n",
       "      <td>33.66</td>\n",
       "      <td>0</td>\n",
       "      <td>no</td>\n",
       "      <td>southeast</td>\n",
       "      <td>1136.3994</td>\n",
       "      <td>€1,136.40</td>\n",
       "    </tr>\n",
       "    <tr>\n",
       "      <th>22</th>\n",
       "      <td>18</td>\n",
       "      <td>male</td>\n",
       "      <td>34.10</td>\n",
       "      <td>0</td>\n",
       "      <td>no</td>\n",
       "      <td>southeast</td>\n",
       "      <td>1137.0110</td>\n",
       "      <td>€1,137.01</td>\n",
       "    </tr>\n",
       "    <tr>\n",
       "      <th>194</th>\n",
       "      <td>18</td>\n",
       "      <td>male</td>\n",
       "      <td>34.43</td>\n",
       "      <td>0</td>\n",
       "      <td>no</td>\n",
       "      <td>southeast</td>\n",
       "      <td>1137.4697</td>\n",
       "      <td>€1,137.47</td>\n",
       "    </tr>\n",
       "    <tr>\n",
       "      <th>866</th>\n",
       "      <td>18</td>\n",
       "      <td>male</td>\n",
       "      <td>37.29</td>\n",
       "      <td>0</td>\n",
       "      <td>no</td>\n",
       "      <td>southeast</td>\n",
       "      <td>1141.4451</td>\n",
       "      <td>€1,141.45</td>\n",
       "    </tr>\n",
       "    <tr>\n",
       "      <th>781</th>\n",
       "      <td>18</td>\n",
       "      <td>male</td>\n",
       "      <td>41.14</td>\n",
       "      <td>0</td>\n",
       "      <td>no</td>\n",
       "      <td>southeast</td>\n",
       "      <td>1146.7966</td>\n",
       "      <td>€1,146.80</td>\n",
       "    </tr>\n",
       "    <tr>\n",
       "      <th>442</th>\n",
       "      <td>18</td>\n",
       "      <td>male</td>\n",
       "      <td>43.01</td>\n",
       "      <td>0</td>\n",
       "      <td>no</td>\n",
       "      <td>southeast</td>\n",
       "      <td>1149.3959</td>\n",
       "      <td>€1,149.40</td>\n",
       "    </tr>\n",
       "    <tr>\n",
       "      <th>1317</th>\n",
       "      <td>18</td>\n",
       "      <td>male</td>\n",
       "      <td>53.13</td>\n",
       "      <td>0</td>\n",
       "      <td>no</td>\n",
       "      <td>southeast</td>\n",
       "      <td>1163.4627</td>\n",
       "      <td>€1,163.46</td>\n",
       "    </tr>\n",
       "  </tbody>\n",
       "</table>\n",
       "</div>"
      ],
      "text/plain": [
       "      Age   Sex    Bmi  Children Smoker     Region    Charges Charges_display\n",
       "940    18  male  23.21         0     no  southeast  1121.8739       €1,121.87\n",
       "808    18  male  30.14         0     no  southeast  1131.5066       €1,131.51\n",
       "1244   18  male  33.33         0     no  southeast  1135.9407       €1,135.94\n",
       "663    18  male  33.66         0     no  southeast  1136.3994       €1,136.40\n",
       "22     18  male  34.10         0     no  southeast  1137.0110       €1,137.01\n",
       "194    18  male  34.43         0     no  southeast  1137.4697       €1,137.47\n",
       "866    18  male  37.29         0     no  southeast  1141.4451       €1,141.45\n",
       "781    18  male  41.14         0     no  southeast  1146.7966       €1,146.80\n",
       "442    18  male  43.01         0     no  southeast  1149.3959       €1,149.40\n",
       "1317   18  male  53.13         0     no  southeast  1163.4627       €1,163.46"
      ]
     },
     "execution_count": 275,
     "metadata": {},
     "output_type": "execute_result"
    }
   ],
   "source": [
    "# View bottom 10 lowest values\n",
    "my_data.nsmallest(10, 'Charges')"
   ]
  },
  {
   "cell_type": "markdown",
   "id": "6c9ea91e-1546-41cf-951c-f887429cfa17",
   "metadata": {},
   "source": [
    "# 1. BASIC COST ANALYSIS "
   ]
  },
  {
   "cell_type": "code",
   "execution_count": 276,
   "id": "95ff06d2-2b57-49d0-b7ff-3cebfddce74c",
   "metadata": {},
   "outputs": [
    {
     "name": "stdout",
     "output_type": "stream",
     "text": [
      "\n",
      "=== BASIC COST ANALYSIS ===\n",
      "\n",
      "\n",
      "1. Age Impact on Charges: \n",
      "\n",
      "                  mean    median         sum  count\n",
      "age_category                                       \n",
      "18-25          9098.19   2876.38  3293545.59    362\n",
      "26-35         10991.13   5246.05  2604896.84    237\n",
      "36-45         13628.32   7623.52  3257168.20    239\n",
      "46-55         15969.00  10297.33  4120001.51    258\n",
      "56-64         18513.28  13226.77  4480212.85    242\n",
      "\n",
      "2. Gender Impact on Charges: \n",
      "\n",
      "            mean   median         sum  count\n",
      "Sex                                         \n",
      "female  12569.58  9412.96  8321061.19    662\n",
      "male    13956.75  9369.62  9434763.80    676\n",
      "\n",
      "3. Smoking Impact on Charges:\n",
      "\n",
      "            mean    median         sum  count\n",
      "Smoker                                       \n",
      "no       8434.27   7345.41  8974061.47   1064\n",
      "yes     32050.23  34456.35  8781763.52    274\n",
      "\n",
      "4. Region Impact on Charges:\n",
      "\n",
      "               mean    median         sum  count\n",
      "Region                                          \n",
      "northeast  13406.38  10057.65  4343668.58    324\n",
      "northwest  12417.58   8965.80  4035712.00    325\n",
      "southeast  14735.41   9294.13  5363689.76    364\n",
      "southwest  12346.94   8798.59  4012754.65    325\n",
      "\n",
      "5. BMI Impact on Charges:\n",
      "\n",
      "                                mean    median         sum  count\n",
      "Bmi_category                                                     \n",
      "<18.5 (Underweight)          8657.62   6640.54   181810.03     21\n",
      "18.5-24.9 (Normal)          10435.44   8604.15  2358409.60    226\n",
      "25.0-29.9 (Overweight)      10997.80   8659.38  4245152.30    386\n",
      "30.0-39.9 (Obesity I & II)  15379.57  10078.95  9443053.04    614\n",
      ">=40 (Severely obesed)      16784.62   9748.91  1527400.01     91\n"
     ]
    }
   ],
   "source": [
    "print('\\n=== BASIC COST ANALYSIS ===\\n')\n",
    "\n",
    "# Age Group Analysis\n",
    "\n",
    "print(\"\\n1. Age Impact on Charges: \\n\")\n",
    "my_data['age_category'] = pd.cut(my_data['Age'], bins=5,\n",
    "                                 labels=['18-25', '26-35', '36-45', '46-55', '56-64'])\n",
    "group_by_age = my_data.groupby('age_category', observed=True)\n",
    "print(my_data.groupby('age_category', observed=True)['Charges'].agg(['mean', 'median', 'sum', 'count']).round(2))\n",
    "\n",
    "# Gender Group Analysis\n",
    "\n",
    "print(\"\\n2. Gender Impact on Charges: \\n\")\n",
    "group_by_sex = my_data.groupby('Sex')\n",
    "print(my_data.groupby('Sex')['Charges'].agg(['mean', 'median', 'sum', 'count']).round(2))\n",
    "\n",
    "# Smoking Group Analysis\n",
    "\n",
    "print(\"\\n3. Smoking Impact on Charges:\\n\")\n",
    "group_by_smokers = my_data.groupby('Smoker')\n",
    "print(my_data.groupby('Smoker')['Charges'].agg(['mean', 'median', 'sum', 'count']).round(2))\n",
    "\n",
    "# Region Group Analysis\n",
    "\n",
    "print(\"\\n4. Region Impact on Charges:\\n\")\n",
    "group_by_region = my_data.groupby('Region')\n",
    "print(my_data.groupby('Region')['Charges'].agg(['mean', 'median', 'sum', 'count']).round(2))\n",
    "\n",
    "# BMI Group Analysis\n",
    "\n",
    "print(\"\\n5. BMI Impact on Charges:\\n\")\n",
    "my_data['Bmi_category'] = pd.cut(\n",
    "    my_data['Bmi'],\n",
    "    bins=[0, 18.5, 25, 30, 40, np.inf],\n",
    "    labels=labels\n",
    ")\n",
    "group_by_bmi = my_data.groupby('Bmi_category', observed=True)\n",
    "print(my_data.groupby('Bmi_category', observed=True)['Charges'].agg(['mean', 'median', 'sum', 'count']).round(2))"
   ]
  },
  {
   "cell_type": "markdown",
   "id": "1b948296-9539-48ff-9ae2-13a746284094",
   "metadata": {},
   "source": [
    "# 2. COMBINED RISK FACTOR ANALYSIS"
   ]
  },
  {
   "cell_type": "code",
   "execution_count": 277,
   "id": "21086577-a9d3-4c79-a3d1-bf2112848568",
   "metadata": {},
   "outputs": [
    {
     "name": "stdout",
     "output_type": "stream",
     "text": [
      "\n",
      "=== COMBINED RISK FACTOR ANALYSIS ===\n",
      "\n",
      "\n",
      "6. Age-Smoking Interaction:\n",
      "\n",
      "                         mean    median         sum  count\n",
      "age_category Smoker                                       \n",
      "18-25        no       4137.99   2457.50  1179327.13    285\n",
      "             yes     27457.38  33732.69  2114218.46     77\n",
      "26-35        no       5998.18   4837.58  1121659.07    187\n",
      "             yes     29664.76  27103.33  1483237.77     50\n",
      "36-45        no       8048.55   7167.69  1480933.70    184\n",
      "             yes     32295.17  37829.72  1776234.51     55\n",
      "46-55        no      11438.35   9864.89  2379176.07    208\n",
      "             yes     34816.51  40224.08  1740825.44     50\n",
      "56-64        no      14064.83  12919.94  2812965.50    200\n",
      "             yes     39696.37  44716.38  1667247.35     42\n",
      "\n",
      "7. Sex-Age Interaction:\n",
      "\n",
      "                         mean    median         sum  count\n",
      "Sex    age_category                                       \n",
      "female 18-25          8815.96   3178.66  1533977.89    174\n",
      "       26-35          9154.83   5190.06  1061960.74    116\n",
      "       36-45         13167.81   7682.67  1566969.45    119\n",
      "       46-55         15125.83  10572.30  1966357.41    130\n",
      "       56-64         17819.48  13451.12  2191795.71    123\n",
      "male   18-25          9359.40   2550.43  1759567.70    188\n",
      "       26-35         12751.54   5373.36  1542936.10    121\n",
      "       36-45         14084.99   7263.72  1690198.75    120\n",
      "       46-55         16825.34  10078.95  2153644.10    128\n",
      "       56-64         19230.40  12982.87  2288417.14    119\n"
     ]
    }
   ],
   "source": [
    "print('\\n=== COMBINED RISK FACTOR ANALYSIS ===\\n')\n",
    "\n",
    "# Age + Smoking Analysis\n",
    "print('\\n6. Age-Smoking Interaction:\\n')\n",
    "age_smoking = my_data.groupby(['age_category', 'Smoker'], observed=True)['Charges'].agg(['mean', 'median', 'sum', 'count']).round(2)\n",
    "print(age_smoking)\n",
    "\n",
    "# Sex + Age Analysis\n",
    "print('\\n7. Sex-Age Interaction:\\n')\n",
    "sex_age = my_data.groupby(['Sex', 'age_category'], observed=True)['Charges'].agg(['mean', 'median', 'sum', 'count']).round(2)\n",
    "print(sex_age)\n",
    "\n",
    "\n"
   ]
  },
  {
   "cell_type": "code",
   "execution_count": 278,
   "id": "262bec8e",
   "metadata": {},
   "outputs": [
    {
     "name": "stdout",
     "output_type": "stream",
     "text": [
      "\n",
      "8. Sex-Smoking Interaction:\n",
      "\n",
      "                   mean    median         sum  count\n",
      "Sex    Smoker                                       \n",
      "female no       8762.30   7639.42  4792976.62    547\n",
      "       yes     30679.00  28950.47  3528084.57    115\n",
      "male   no       8087.20   6985.51  4181084.85    517\n",
      "       yes     33042.01  36085.22  5253678.95    159\n",
      "\n",
      "9. Bmi-Region Interaction:\n",
      "\n",
      "                                          mean    median         sum  count\n",
      "Bmi_category               Region                                          \n",
      "<18.5 (Underweight)        northeast   8914.42   9206.43    89144.24     10\n",
      "                           northwest   9223.35   5116.50    64563.46      7\n",
      "                           southwest   7025.58   3675.65    28102.34      4\n",
      "18.5-24.9 (Normal)         northeast  11317.39   8688.86   826169.78     73\n",
      "                           northwest  10000.52   8017.06   630032.48     63\n",
      "                           southeast  13123.56  11833.78   538065.84     41\n",
      "                           southwest   7431.46   5080.10   364141.50     49\n",
      "25.0-29.9 (Overweight)     northeast  10810.64   9223.83  1059442.74     98\n",
      "                           northwest  11432.13   9249.50  1223238.23    107\n",
      "                           southeast  10862.67   8225.92   869013.84     80\n",
      "                           southwest  10826.31   8782.47  1093457.48    101\n",
      "30.0-39.9 (Obesity I & II) northeast  16642.68  11821.05  2130262.76    128\n",
      "                           northwest  14231.72   9379.01  1992441.19    140\n",
      "                           southeast  15607.61   9294.13  2934231.25    188\n",
      "                           southwest  15102.01   9628.16  2386117.83    158\n",
      ">=40 (Severely obesed)     northeast  15909.94   9541.70   238649.06     15\n",
      "                           northwest  15679.58   9883.45   125436.63      8\n",
      "                           southeast  18588.71   9748.91  1022378.83     55\n",
      "                           southwest  10841.19  10602.38   140935.50     13\n"
     ]
    }
   ],
   "source": [
    "# Sex + Smoking Analysis\n",
    "print('\\n8. Sex-Smoking Interaction:\\n')\n",
    "sex_smoker = my_data.groupby(['Sex', 'Smoker'], observed=True)['Charges'].agg(['mean', 'median', 'sum', 'count']).round(2)\n",
    "print(sex_smoker)\n",
    "\n",
    "\n",
    "# Bmi + Region Analysis\n",
    "print('\\n9. Bmi-Region Interaction:\\n')\n",
    "# Create Bmi_category column if it doesn't exist\n",
    "if 'Bmi_category' not in my_data.columns:\n",
    "\tmy_data['Bmi_category'] = pd.cut(\n",
    "\t\tmy_data['Bmi'],\n",
    "\t\tbins=[0, 18.5, 25, 30, 40, np.inf],\n",
    "\t\tlabels=labels\n",
    "\t)\n",
    "bmi_region = my_data.groupby(['Bmi_category', 'Region'], observed=True)['Charges'].agg(['mean', 'median', 'sum', 'count']).round(2)\n",
    "print(bmi_region)"
   ]
  },
  {
   "cell_type": "code",
   "execution_count": 279,
   "id": "7acd4ecb-d637-434d-a9c3-ff92bea73229",
   "metadata": {},
   "outputs": [
    {
     "data": {
      "image/png": "[encoded data removed]",
      "text/plain": [
       "<Figure size 1500x1000 with 4 Axes>"
      ]
     },
     "metadata": {},
     "output_type": "display_data"
    }
   ],
   "source": [
    "# Visualization of my analysis report\n",
    "\n",
    "# Group plot\n",
    "from matplotlib import pyplot as plt\n",
    "\n",
    "\n",
    "fig, axes = plt.subplots(2, 2, figsize=(15, 10))\n",
    "\n",
    "# Age Impact on Charges\n",
    "charges_by_age = my_data.groupby('age_category', observed=True)['Charges'].mean()\n",
    "charges_by_age.plot(kind='bar', ax=axes[0, 0], title='Average Charges by Age Group', edgecolor = 'black')\n",
    "axes[0, 0].tick_params(axis='x', rotation=45)\n",
    "\n",
    "# Gender Impact on Charges\n",
    "charges_by_sex = my_data.groupby('Sex', observed=True)['Charges'].mean()\n",
    "charges_by_sex.plot(kind='bar', ax=axes[0, 1], title='Average Charges by Gender', color='orange', edgecolor = 'black')\n",
    "axes[0, 1].tick_params(axis='x', rotation=45)\n",
    "\n",
    "# Smoking Impact on Charges\n",
    "charges_by_smoking = my_data.groupby('Smoker', observed=True)['Charges'].mean()\n",
    "charges_by_smoking.plot(kind='bar', ax=axes[1, 0], title='Average Charges by Smoking Status', color='green', edgecolor = 'black')\n",
    "axes[1, 0].tick_params(axis='x', rotation=45)\n",
    "\n",
    "# Region Impact on Charges\n",
    "charges_by_region = my_data.groupby('Region', observed=True)['Charges'].mean()\n",
    "charges_by_region.plot(kind='bar', ax=axes[1, 1], title='Average Charges by Region', color='purple', edgecolor = 'black')\n",
    "axes[1, 1].tick_params(axis='x', rotation=45)\n",
    "\n",
    "fig.tight_layout()\n",
    "plt.show()\n"
   ]
  },
  {
   "cell_type": "code",
   "execution_count": 280,
   "id": "f38f4289",
   "metadata": {},
   "outputs": [
    {
     "data": {
      "image/png": "[encoded data removed]",
      "text/plain": [
       "<Figure size 700x500 with 1 Axes>"
      ]
     },
     "metadata": {},
     "output_type": "display_data"
    }
   ],
   "source": [
    "# BMI Impact on Charges\n",
    "fig_bmi, ax_bmi = plt.subplots(figsize=(7, 5))\n",
    "charges_by_bmi = my_data.groupby('Bmi_category', observed=True)['Charges'].mean()\n",
    "charges_by_bmi.plot(kind='bar', ax=ax_bmi, title='Average Charges by BMI Category', color='brown', edgecolor = 'black')\n",
    "ax_bmi.tick_params(axis='x', rotation=45)\n",
    "fig_bmi.tight_layout()\n",
    "plt.show()"
   ]
  },
  {
   "cell_type": "code",
   "execution_count": 281,
   "id": "7ee07c7c",
   "metadata": {},
   "outputs": [
    {
     "data": {
      "image/png": "[encoded data removed]",
      "text/plain": [
       "<Figure size 1000x600 with 1 Axes>"
      ]
     },
     "metadata": {},
     "output_type": "display_data"
    }
   ],
   "source": [
    "# Age, smoking, BMI interaction\n",
    "fig_interaction, ax_interaction = plt.subplots(figsize=(10, 6))\n",
    "interaction_data = my_data.groupby(['age_category', 'Smoker', 'Bmi_category'], observed=True)['Charges'].mean().unstack('Bmi_category')\n",
    "interaction_data.plot(\n",
    "\tkind='bar',\n",
    "\tax=ax_interaction,\n",
    "\ttitle='Average Charges by Age, Smoking, and BMI'\n",
    ")\n",
    "plt.tight_layout()\n",
    "plt.show()"
   ]
  },
  {
   "cell_type": "code",
   "execution_count": 282,
   "id": "884f85b8",
   "metadata": {},
   "outputs": [
    {
     "name": "stdout",
     "output_type": "stream",
     "text": [
      "\n",
      "=== BUSINESS INSIGHT ===\n",
      "\n",
      "1. Smoking is a significant factor in healthcare costs, with smokers experiencing higher charges.\n",
      "2. Age status also plays a crucial role, as older age groups tend to have higher healthcare costs.\n",
      "3. BMI is another important factor, with higher BMI categories associated with increased charges.\n"
     ]
    }
   ],
   "source": [
    "# Business Insights\n",
    "print(\"\\n=== BUSINESS INSIGHT ===\\n\")\n",
    "print(\"1. Smoking is a significant factor in healthcare costs, with smokers experiencing higher charges.\")\n",
    "print(\"2. Age status also plays a crucial role, as older age groups tend to have higher healthcare costs.\")\n",
    "print(\"3. BMI is another important factor, with higher BMI categories associated with increased charges.\")"
   ]
  },
  {
   "cell_type": "code",
   "execution_count": 283,
   "id": "740145b5-496a-4ecd-90de-055de2609af2",
   "metadata": {},
   "outputs": [
    {
     "name": "stdout",
     "output_type": "stream",
     "text": [
      "\n",
      "Cleaned data saved to 'cleaned_insurance_data.csv'.\n"
     ]
    }
   ],
   "source": [
    "# Saving the cleaned data to a new CSV file\n",
    "my_data.to_csv('cleaned_insurance_data.csv', index=False)\n",
    "print(\"\\nCleaned data saved to 'cleaned_insurance_data.csv'.\")"
   ]
  }
 ],
 "metadata": {
  "kernelspec": {
   "display_name": "base",
   "language": "python",
   "name": "python3"
  },
  "language_info": {
   "codemirror_mode": {
    "name": "ipython",
    "version": 3
   },
   "file_extension": ".py",
   "mimetype": "text/x-python",
   "name": "python",
   "nbconvert_exporter": "python",
   "pygments_lexer": "ipython3",
   "version": "3.12.7"
  }
 },
 "nbformat": 4,
 "nbformat_minor": 5
}
